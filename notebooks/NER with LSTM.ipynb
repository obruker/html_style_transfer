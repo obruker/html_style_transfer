{
 "cells": [
  {
   "cell_type": "markdown",
   "metadata": {},
   "source": [
    "## Reading the data"
   ]
  },
  {
   "cell_type": "code",
   "execution_count": 1,
   "metadata": {},
   "outputs": [
    {
     "name": "stderr",
     "output_type": "stream",
     "text": [
      "Using TensorFlow backend.\n"
     ]
    }
   ],
   "source": [
    "from zipfile import ZipFile\n",
    "import json\n",
    "import collections\n",
    "import numpy as np\n",
    "from keras.utils import to_categorical\n",
    "from keras.layers import TimeDistributed, Dense, Activation, Input\n",
    "from keras.layers.embeddings import Embedding\n",
    "from keras.layers.recurrent import LSTM\n",
    "from keras.models import Model\n",
    "from keras.preprocessing.sequence import pad_sequences\n",
    "from sklearn.model_selection import train_test_split\n",
    "from sklearn.metrics import accuracy_score, confusion_matrix, precision_recall_fscore_support\n",
    "from matplotlib import pyplot as plt\n",
    "\n",
    "%matplotlib inline\n",
    "\n",
    "DATA_FILE = '../data/0.zip'"
   ]
  },
  {
   "cell_type": "markdown",
   "metadata": {},
   "source": [
    "Our data consists of legal documents that have been pre-processed, tokenized and tagged. They're stored in one zip file of JSON files. To save space we'll read the files directly from the zip.\n",
    "Let's see what one of them looks like."
   ]
  },
  {
   "cell_type": "code",
   "execution_count": 2,
   "metadata": {},
   "outputs": [
    {
     "name": "stdout",
     "output_type": "stream",
     "text": [
      "[['exhibit', 'n']]\n",
      "[['exhibit', 'n'], ['{num}', 'n']]\n",
      "[['execution', 'b'], ['version', 'b']]\n",
      "[['credit', 'b'], ['agreement', 'b']]\n",
      "[['dated', 'n'], ['as', 'n'], ['of', 'n']]\n",
      "[['april', 'n'], ['{num}', 'n'], ['{num}', 'n']]\n",
      "[['among', 'n']]\n",
      "[['cleco', 'b'], ['mergersub', 'b'], ['inc', 'b'], ['.', 'b'], [',', 'n']]\n",
      "[['as', 'n'], ['initial', 'n'], ['borrower', 'n'], [',', 'n']]\n",
      "[['to', 'n'], ['be', 'n'], ['merged', 'n'], ['with', 'n'], ['and', 'n'], ['into', 'n']]\n"
     ]
    }
   ],
   "source": [
    "with ZipFile(DATA_FILE) as z:\n",
    "    filename = z.filelist[0]\n",
    "    with z.open(filename) as f:\n",
    "        content = json.load(f)\n",
    "        print(*content[:10], sep=\"\\n\")"
   ]
  },
  {
   "cell_type": "markdown",
   "metadata": {},
   "source": [
    "We can see that the document is split into lines (sequences) made of (token, tag) pairs. For instance, the tokens 'execution' and 'version' (3rd line) are tagged with 'b' indicating that they are **bold**."
   ]
  },
  {
   "cell_type": "markdown",
   "metadata": {},
   "source": [
    "Next, we'll concatenate all of these sequences into one big dataset.  \n",
    "**NOTE**: Due to memory/time constraints we will limit the number of documents we use for training."
   ]
  },
  {
   "cell_type": "code",
   "execution_count": 3,
   "metadata": {},
   "outputs": [],
   "source": [
    "def read_json_zip_file(input_file, read_limit=1000):\n",
    "    with ZipFile(input_file) as z:\n",
    "        all_x = []\n",
    "        for fname in z.filelist[:read_limit]:\n",
    "            with z.open(fname) as f:\n",
    "                all_x += json.load(f)\n",
    "    return all_x"
   ]
  },
  {
   "cell_type": "code",
   "execution_count": 4,
   "metadata": {},
   "outputs": [],
   "source": [
    "sequences = read_json_zip_file(DATA_FILE)"
   ]
  },
  {
   "cell_type": "markdown",
   "metadata": {},
   "source": [
    "Since our RNN will work on sequences, we need to determine the maximum sequence length we'll use. The length of the sequence will impact the memory our model uses and the time it takes to train it.   \n",
    "We'll choose a maximum sequence length of 256 so that almost 98% of our data will be used in the model."
   ]
  },
  {
   "cell_type": "code",
   "execution_count": 5,
   "metadata": {},
   "outputs": [],
   "source": [
    "def filter_sequences(sequences, max_length=256):\n",
    "    lengths = [len(x) for x in sequences]\n",
    "    print(f'Maximum length: {max(lengths)}')\n",
    "    print(f'Minimum length: {min(lengths)}')\n",
    "    print(f'Average length: {sum(lengths)/len(lengths)}')\n",
    "    \n",
    "    short_sequences = [s for s in sequences if len(s) <= max_length]\n",
    "    print(f'% of short sequences: {100 * len(short_sequences)/len(sequences)}')\n",
    "    X = [[c[0] for c in x] for x in short_sequences]\n",
    "    y = [[c[1] for c in y] for y in short_sequences]\n",
    "    \n",
    "    return X, y"
   ]
  },
  {
   "cell_type": "code",
   "execution_count": 6,
   "metadata": {},
   "outputs": [
    {
     "name": "stdout",
     "output_type": "stream",
     "text": [
      "Maximum length: 4265\n",
      "Minimum length: 1\n",
      "Average length: 35.93670324570742\n",
      "% of short sequences: 97.88135014877297\n"
     ]
    }
   ],
   "source": [
    "max_length = 256\n",
    "X, y = filter_sequences(sequences, max_length)"
   ]
  },
  {
   "cell_type": "markdown",
   "metadata": {},
   "source": [
    "## Encoding the sequences"
   ]
  },
  {
   "cell_type": "markdown",
   "metadata": {},
   "source": [
    "Now that we have our word sequences ready we need to represent them in a machine readable (=numerical) format. To do that, we'll merge all of the tokens into one big corpus and assign each token a unique number.  \n",
    "**NOTE**: We will remove words that appear less than `min_token_frequency` since we can't learn much from them."
   ]
  },
  {
   "cell_type": "code",
   "execution_count": 7,
   "metadata": {},
   "outputs": [],
   "source": [
    "min_token_frequency = 2\n",
    "corpus = (token for sequence in X for token in sequence)\n",
    "\n",
    "## Reserve the first two indexes for padding and uknowns\n",
    "index2token = [\"{pad}\", \"{unk}\"] + [token for token, count in collections.Counter(corpus).items() if count >= min_token_frequency]\n",
    "token2index = collections.defaultdict(lambda: 1, {token: index for index, token in enumerate(index2token)})\n",
    "\n",
    "index2label = [\"{pad}\"] + list(set([label for target in y for label in target]))\n",
    "label2index = {label: index for index, label in enumerate(index2label)}\n",
    "\n",
    "with open('../model/model_params.json', 'w') as file:\n",
    "    json.dump({\n",
    "        \"word2ind\": dict(token2index),\n",
    "        \"label2ind\": dict(label2index),\n",
    "        \"max_length\": max_length\n",
    "    }, file)"
   ]
  },
  {
   "cell_type": "markdown",
   "metadata": {},
   "source": [
    "Let's see some stats about our data"
   ]
  },
  {
   "cell_type": "code",
   "execution_count": 8,
   "metadata": {},
   "outputs": [
    {
     "name": "stdout",
     "output_type": "stream",
     "text": [
      "Text vocabulary size:  23507\n",
      "Label vocabulary size:  6\n",
      "Maximum sequence length:  256\n"
     ]
    }
   ],
   "source": [
    "max_sequence_length = max([len(x) for x in X])\n",
    "\n",
    "print('Text vocabulary size: ', len(token2index))\n",
    "print('Label vocabulary size: ', len(label2index))\n",
    "print('Maximum sequence length: ', max_sequence_length)"
   ]
  },
  {
   "cell_type": "markdown",
   "metadata": {},
   "source": [
    "Next, we will use the dictionaries we've just created to encode our data.  \n",
    "**NOTE**: We pad our data so that each sample we feed our network has the same size. (This is not necessarily required but it improves Keras' perfromance)"
   ]
  },
  {
   "cell_type": "code",
   "execution_count": 9,
   "metadata": {},
   "outputs": [],
   "source": [
    "X_enc = [[token2index[token] for token in sequence] for sequence in X]\n",
    "max_label = len(label2index)\n",
    "y_enc = [[0] * (max_sequence_length - len(target)) + [label2index[label] for label in target] for target in y]\n",
    "y_enc = [to_categorical(target, max_label) for target in y_enc]\n",
    "\n",
    "X_enc = pad_sequences(X_enc, maxlen=max_sequence_length)\n",
    "y_enc = pad_sequences(y_enc, maxlen=max_sequence_length)"
   ]
  },
  {
   "cell_type": "markdown",
   "metadata": {},
   "source": [
    "The last step in preparing the data is to split it into train/test set which we will later feed into our model."
   ]
  },
  {
   "cell_type": "code",
   "execution_count": 10,
   "metadata": {},
   "outputs": [],
   "source": [
    "test_size = 0.25\n",
    "X_train, X_test, y_train, y_test = train_test_split(X_enc, y_enc, test_size=test_size)"
   ]
  },
  {
   "cell_type": "markdown",
   "metadata": {},
   "source": [
    "## Building the model"
   ]
  },
  {
   "cell_type": "markdown",
   "metadata": {},
   "source": [
    "Before building our model, let's define some parameters which we'll need later"
   ]
  },
  {
   "cell_type": "code",
   "execution_count": 11,
   "metadata": {},
   "outputs": [],
   "source": [
    "vocabulary_size = len(token2index)\n",
    "tags_size = len(label2index)\n",
    "embedding_size = 128\n",
    "hidden_size = 32\n",
    "batch_size = 2048\n",
    "epochs = 3"
   ]
  },
  {
   "cell_type": "markdown",
   "metadata": {},
   "source": [
    "To build our LSTM RNN, we're going to use Keras. We'll build it one layer at a time, explaining each layer as we go.  \n",
    "The first layer is the input layer which will be given the `X_train` values we created previously. The shape of the layer is determined by the `max_sequence_length` we set earlier."
   ]
  },
  {
   "cell_type": "code",
   "execution_count": 12,
   "metadata": {},
   "outputs": [],
   "source": [
    "l_input = Input(shape=(max_sequence_length,))"
   ]
  },
  {
   "cell_type": "markdown",
   "metadata": {},
   "source": [
    "Next, we create the embedding layer. This layer takes our numerical representation of tokens and learns a (hopefully) meaningful embedding for each of them. The input dimension for this layer is determined by the size of our vocabulary while the output dimension (embedding size) is chosen arbitrarily. We set `mask_zero=True` to let the network know that an input value of 0 is a padding value."
   ]
  },
  {
   "cell_type": "code",
   "execution_count": 13,
   "metadata": {},
   "outputs": [],
   "source": [
    "l_embed = Embedding(vocabulary_size, embedding_size, input_length=max_sequence_length, mask_zero=True)(l_input)   "
   ]
  },
  {
   "cell_type": "markdown",
   "metadata": {},
   "source": [
    "Now we define our LSTM layer which will transform the vector sequence into a single vector of size `hidden_size`. We set `return_sequences` to `True` since we want to access the hidden state at each time step and feed that to to a `Dense` output layer wrapped in a `TimeDistributed` layer. (See more here: https://machinelearningmastery.com/return-sequences-and-return-states-for-lstms-in-keras/)"
   ]
  },
  {
   "cell_type": "code",
   "execution_count": 14,
   "metadata": {},
   "outputs": [],
   "source": [
    "l_lstm = LSTM(hidden_size, return_sequences=True)(l_embed)"
   ]
  },
  {
   "cell_type": "markdown",
   "metadata": {},
   "source": [
    "We add a `Dense` layer with the size of `tags_size` - the number of tags we want to predict, wrapped in a `TimeDistributed` wrapper."
   ]
  },
  {
   "cell_type": "code",
   "execution_count": 15,
   "metadata": {},
   "outputs": [],
   "source": [
    "l_dense = TimeDistributed(Dense(tags_size))(l_lstm)"
   ]
  },
  {
   "cell_type": "markdown",
   "metadata": {},
   "source": [
    "Finally we add the `Activation` layer with a softmax function to determine the tag of each token."
   ]
  },
  {
   "cell_type": "code",
   "execution_count": 16,
   "metadata": {},
   "outputs": [],
   "source": [
    "l_active = Activation('softmax')(l_dense)"
   ]
  },
  {
   "cell_type": "markdown",
   "metadata": {},
   "source": [
    "Now we can create and compile the model using categorical crossentropy for our loss function."
   ]
  },
  {
   "cell_type": "code",
   "execution_count": 17,
   "metadata": {},
   "outputs": [],
   "source": [
    "model = Model(inputs=l_input, outputs=l_active)\n",
    "model.compile(loss='categorical_crossentropy', optimizer='adam', metrics=['acc'])"
   ]
  },
  {
   "cell_type": "markdown",
   "metadata": {},
   "source": [
    "We can see what the model looks like by printing its summary"
   ]
  },
  {
   "cell_type": "code",
   "execution_count": 18,
   "metadata": {},
   "outputs": [
    {
     "name": "stdout",
     "output_type": "stream",
     "text": [
      "_________________________________________________________________\n",
      "Layer (type)                 Output Shape              Param #   \n",
      "=================================================================\n",
      "input_1 (InputLayer)         (None, 256)               0         \n",
      "_________________________________________________________________\n",
      "embedding_1 (Embedding)      (None, 256, 128)          4120448   \n",
      "_________________________________________________________________\n",
      "lstm_1 (LSTM)                (None, 256, 32)           20608     \n",
      "_________________________________________________________________\n",
      "time_distributed_1 (TimeDist (None, 256, 6)            198       \n",
      "_________________________________________________________________\n",
      "activation_1 (Activation)    (None, 256, 6)            0         \n",
      "=================================================================\n",
      "Total params: 4,141,254\n",
      "Trainable params: 4,141,254\n",
      "Non-trainable params: 0\n",
      "_________________________________________________________________\n"
     ]
    }
   ],
   "source": [
    "model.summary()"
   ]
  },
  {
   "cell_type": "markdown",
   "metadata": {},
   "source": [
    "## Training the model"
   ]
  },
  {
   "cell_type": "markdown",
   "metadata": {},
   "source": [
    "Let's fit the model using the training data (this might tke a while depending on your hardware)"
   ]
  },
  {
   "cell_type": "code",
   "execution_count": 19,
   "metadata": {},
   "outputs": [
    {
     "name": "stdout",
     "output_type": "stream",
     "text": [
      "Train on 215141 samples, validate on 71714 samples\n",
      "Epoch 1/3\n",
      "215141/215141 [==============================] - 748s 3ms/step - loss: 0.5263 - acc: 0.9383 - val_loss: 0.2425 - val_acc: 0.9492\n",
      "Epoch 2/3\n",
      "215141/215141 [==============================] - 1123s 5ms/step - loss: 0.2257 - acc: 0.9491 - val_loss: 0.2179 - val_acc: 0.9477\n",
      "Epoch 3/3\n",
      "215141/215141 [==============================] - 1238s 6ms/step - loss: 0.2025 - acc: 0.9483 - val_loss: 0.1954 - val_acc: 0.9463\n"
     ]
    }
   ],
   "source": [
    "r = model.fit(X_train, y_train, batch_size=batch_size, epochs=epochs, validation_data=(X_test, y_test))"
   ]
  },
  {
   "cell_type": "code",
   "execution_count": 20,
   "metadata": {},
   "outputs": [
    {
     "data": {
      "text/plain": [
       "<matplotlib.legend.Legend at 0x2331f9c60f0>"
      ]
     },
     "execution_count": 20,
     "metadata": {},
     "output_type": "execute_result"
    },
    {
     "data": {
      "image/png": "[encoded data removed]",
      "text/plain": [
       "<Figure size 432x288 with 1 Axes>"
      ]
     },
     "metadata": {
      "needs_background": "light"
     },
     "output_type": "display_data"
    }
   ],
   "source": [
    "# plot some data\n",
    "plt.plot(r.history['loss'], label='loss')\n",
    "plt.plot(r.history['val_loss'], label='val_loss')\n",
    "plt.legend()"
   ]
  },
  {
   "cell_type": "code",
   "execution_count": 21,
   "metadata": {},
   "outputs": [
    {
     "data": {
      "text/plain": [
       "<matplotlib.legend.Legend at 0x2331fa760b8>"
      ]
     },
     "execution_count": 21,
     "metadata": {},
     "output_type": "execute_result"
    },
    {
     "data": {
      "image/png": "[encoded data removed]",
      "text/plain": [
       "<Figure size 432x288 with 1 Axes>"
      ]
     },
     "metadata": {
      "needs_background": "light"
     },
     "output_type": "display_data"
    }
   ],
   "source": [
    "# accuracies\n",
    "plt.plot(r.history['acc'], label='acc')\n",
    "plt.plot(r.history['val_acc'], label='val_acc')\n",
    "plt.legend()"
   ]
  },
  {
   "cell_type": "markdown",
   "metadata": {},
   "source": [
    "## Evaluating the model"
   ]
  },
  {
   "cell_type": "markdown",
   "metadata": {},
   "source": [
    "We will use several techniques to evaluate the results of our model. The first one is simply to use Keras's built-in `evaluate` function which will return the test loss - lower means better."
   ]
  },
  {
   "cell_type": "code",
   "execution_count": 22,
   "metadata": {},
   "outputs": [
    {
     "name": "stdout",
     "output_type": "stream",
     "text": [
      "71714/71714 [==============================] - 91s 1ms/step\n",
      "Model loss: [0.19537902487086636, 0.9462510473866416]\n"
     ]
    }
   ],
   "source": [
    "score = model.evaluate(X_test, y_test, batch_size=batch_size)\n",
    "print(f'Model loss: {score}')"
   ]
  },
  {
   "cell_type": "markdown",
   "metadata": {},
   "source": [
    "The next metrics we'll look at are the accuracy and confusion matrix"
   ]
  },
  {
   "cell_type": "code",
   "execution_count": 23,
   "metadata": {},
   "outputs": [],
   "source": [
    "## Takes our sequence predictions/true values and returns them as lists \n",
    "def reshape_predictions(yh, pr):\n",
    "    coords = [np.where(yhh > 0)[0][0] for yhh in yh]\n",
    "    yh = [yhh[co:] for yhh, co in zip(yh, coords)]\n",
    "    ypr = [prr[co:] for prr, co in zip(pr, coords)]\n",
    "    fyh = [c for row in yh for c in row]\n",
    "    fpr = [c for row in ypr for c in row]\n",
    "    return fyh, fpr"
   ]
  },
  {
   "cell_type": "code",
   "execution_count": 24,
   "metadata": {},
   "outputs": [
    {
     "name": "stdout",
     "output_type": "stream",
     "text": [
      "Training accuracy: 0.9471513091347475\n",
      "Training confusion matrix:\n",
      "[[      0       0       0       0       0       0]\n",
      " [   1228    3472    2815    1663  110542     181]\n",
      " [    222     282    5024     437  124579      11]\n",
      " [      0       0       0       0    1099       0]\n",
      " [    873    2038   15429    7682 5790233     147]\n",
      " [   1646     279    1721    1105   49586     185]]\n"
     ]
    }
   ],
   "source": [
    "y_pred = model.predict(X_train).argmax(2)\n",
    "yh = y_train.argmax(2)\n",
    "fyh, fpr = reshape_predictions(yh, y_pred)\n",
    "print('Training accuracy:', accuracy_score(fyh, fpr))\n",
    "print('Training confusion matrix:')\n",
    "print(confusion_matrix(fyh, fpr))"
   ]
  },
  {
   "cell_type": "markdown",
   "metadata": {},
   "source": [
    "Our accuracy is fairly high which is what we want but it might also indicate that our model isn't doing what we think it's doing. The accuracy metric measures the percentage of correct predictions. So, in our case, 95% if our tokens were marked as 'n' and 5% as any other label then if our model predicted 'n' for **all** input it would have an accuracy of 95%.  \n",
    "Looking at the confusion matrix helps us gain insight as to what kind of errors our model makes. The columns of the matrix represent the prediction made by the model while the rows represent the true value - numbers on the diagonal are correct predicitions.  "
   ]
  },
  {
   "cell_type": "markdown",
   "metadata": {},
   "source": [
    "Using the confusion matrix is sometimes difficult when comparing between different models/model parameters especially when there are a lot of classes. Looking at the precision, recall and F1 score might be easier "
   ]
  },
  {
   "cell_type": "code",
   "execution_count": 25,
   "metadata": {},
   "outputs": [
    {
     "name": "stdout",
     "output_type": "stream",
     "text": [
      "Precision: [0.57189919 0.20104846 0.         0.95296179 0.35305344]\n",
      "Recall:    [0.02895722 0.03848187 0.         0.99550083 0.00339313]\n",
      "F1-Score:  [0.05512336 0.06459908 0.         0.97376695 0.00672165]\n",
      "Support:   [ 119901  130555    1099 5816402   54522]\n"
     ]
    },
    {
     "name": "stderr",
     "output_type": "stream",
     "text": [
      "c:\\users\\ugore\\appdata\\local\\programs\\python\\python36\\lib\\site-packages\\sklearn\\metrics\\classification.py:1145: UndefinedMetricWarning: Recall and F-score are ill-defined and being set to 0.0 in labels with no true samples.\n",
      "  'recall', 'true', average, warn_for)\n"
     ]
    }
   ],
   "source": [
    "results = precision_recall_fscore_support(fyh, fpr)\n",
    "print(f'Precision: {results[0][1:]}')\n",
    "print(f'Recall:    {results[1][1:]}')\n",
    "print(f'F1-Score:  {results[2][1:]}')\n",
    "print(f'Support:   {results[3][1:]}')"
   ]
  },
  {
   "cell_type": "markdown",
   "metadata": {},
   "source": [
    "We see that for label 4 ('n') we get good values across all metrics whereas for other labels we do rather poorly. This doesn't necessarily mean that our model isn't good - it really depends on what and how we're going to use it."
   ]
  },
  {
   "cell_type": "markdown",
   "metadata": {},
   "source": [
    "Up until now we've only evaluated our models performance on the training data but in most cases we're more interested to know how well our model generalizes and how it performs on the data that it hasn't seen before - our test data.  \n",
    "Let's evaluate the model's performance on the test data the same way we did for the train data"
   ]
  },
  {
   "cell_type": "code",
   "execution_count": 26,
   "metadata": {},
   "outputs": [
    {
     "name": "stdout",
     "output_type": "stream",
     "text": [
      "Training accuracy: 0.9463137409062893\n",
      "Training confusion matrix:\n",
      "[[      0       0       0       0       0       0]\n",
      " [    408    1100     944     540   37622      59]\n",
      " [     56      94    1656     127   42003       5]\n",
      " [      0       0       0       0       6       0]\n",
      " [    413     694    5232    2472 1947053      59]\n",
      " [    526      86     564     359   18351      61]]\n"
     ]
    }
   ],
   "source": [
    "y_pred_test = model.predict(X_test).argmax(2)\n",
    "yh_test = y_test.argmax(2)\n",
    "fyh_test, fpr_test = reshape_predictions(yh_test, y_pred_test)\n",
    "print('Training accuracy:', accuracy_score(fyh_test, fpr_test))\n",
    "print('Training confusion matrix:')\n",
    "print(confusion_matrix(fyh_test, fpr_test))"
   ]
  },
  {
   "cell_type": "code",
   "execution_count": 27,
   "metadata": {},
   "outputs": [
    {
     "name": "stdout",
     "output_type": "stream",
     "text": [
      "Precision: [0.55724417 0.19723678 0.         0.95208786 0.33152174]\n",
      "Recall:    [0.02704497 0.0376869  0.         0.99546506 0.0030581 ]\n",
      "F1-Score:  [0.05158628 0.06328219 0.         0.9732934  0.00606031]\n",
      "Support:   [  40673   43941       6 1955923   19947]\n"
     ]
    }
   ],
   "source": [
    "results_test = precision_recall_fscore_support(fyh_test, fpr_test)\n",
    "print(f'Precision: {results_test[0][1:]}')\n",
    "print(f'Recall:    {results_test[1][1:]}')\n",
    "print(f'F1-Score:  {results_test[2][1:]}')\n",
    "print(f'Support:   {results_test[3][1:]}')"
   ]
  },
  {
   "cell_type": "markdown",
   "metadata": {},
   "source": [
    "These results seem similar to the ones we got for the training data which means our model generalizes well.  \n",
    "At this point we can save our model architecture and weights so that we can use it later without having to build and train it again."
   ]
  },
  {
   "cell_type": "code",
   "execution_count": 28,
   "metadata": {},
   "outputs": [],
   "source": [
    "with open('../model/model_architecture.json', 'w') as f:\n",
    "    f.write(model.to_json())\n",
    "\n",
    "model.save_weights('../model/model_weights.h5')"
   ]
  }
 ],
 "metadata": {
  "kernelspec": {
   "display_name": "nlp-workshop",
   "language": "python",
   "name": "nlp-workshop"
  },
  "language_info": {
   "codemirror_mode": {
    "name": "ipython",
    "version": 3
   },
   "file_extension": ".py",
   "mimetype": "text/x-python",
   "name": "python",
   "nbconvert_exporter": "python",
   "pygments_lexer": "ipython3",
   "version": "3.6.8"
  }
 },
 "nbformat": 4,
 "nbformat_minor": 2
}
